{
  "nbformat": 4,
  "nbformat_minor": 0,
  "metadata": {
    "colab": {
      "name": "ANN for Perovskite stability.ipynb",
      "provenance": []
    },
    "kernelspec": {
      "name": "python3",
      "display_name": "Python 3"
    },
    "language_info": {
      "name": "python"
    }
  },
  "cells": [
    {
      "cell_type": "code",
      "execution_count": null,
      "metadata": {
        "id": "ZFbIv_03zood"
      },
      "outputs": [],
      "source": [
        "import pandas as pd\n",
        "import numpy as np\n",
        "import matplotlib.pyplot as plt\n",
        "import seaborn as sns\n",
        "from google.colab import files\n",
        "from sklearn.preprocessing import MinMaxScaler\n",
        "from sklearn.model_selection import train_test_split\n",
        "from keras.layers import Dense\n",
        "from keras.models import Sequential\n",
        "from tensorflow.keras.optimizers import Nadam, Adam\n",
        "from sklearn.metrics import r2_score\n",
        "from sklearn.metrics import mean_squared_error\n",
        "from sklearn.metrics import mean_absolute_error\n",
        "from numpy import *\n",
        "import math\n",
        "import tensorflow as tf\n",
        "!pip install shap\n",
        "import shap\n",
        "import ipywidgets as widgets"
      ]
    },
    {
      "cell_type": "code",
      "source": [
        "dataset = pd.read_csv(\"/content/20,65 new.csv\")\n",
        "X = dataset.drop([\"Jsc4\", \"Voc4\", \"FF4\", \"Hysteresis4\", \"PCE4\"], axis = 1)\n",
        "Y = dataset[[\"Jsc4\", \"Voc4\", \"FF4\", \"Hysteresis4\", \"PCE4\"]]\n",
        "scalerx = MinMaxScaler(feature_range = (0,1))\n",
        "scalery = MinMaxScaler(feature_range = (0,1))\n",
        "# training the scalar with range of data\n",
        "scalerx.fit(X)\n",
        "scalery.fit(Y)\n",
        "# Applying transformation\n",
        "scaler_X = scalerx.transform(X)\n",
        "scaler_Y = scalery.transform(Y)\n",
        "X_train, X_test, Y_train, Y_test = train_test_split(scaler_X,scaler_Y, test_size = 0.2, random_state = 11) \n",
        "def build_model():\n",
        "    model = Sequential()\n",
        "    # Input Layer\n",
        "    model.add(Dense(units = 15, input_shape = [len(X.keys())]))\n",
        "    # Hidden Layer - I\n",
        "    model.add(Dense(units = 64, activation= 'hard_sigmoid'))\n",
        "    # Hidden Layer - II\n",
        "    model.add(Dense(units = 128, activation= 'linear'))\n",
        "    # Hidden Layer - III\n",
        "    model.add(Dense(units = 64, activation= 'hard_sigmoid'))\n",
        "    # Output Layer\n",
        "    model.add(Dense(units = 5)) \n",
        "    \n",
        "    # Optimizers \n",
        "    # Learning rate 'alpha' = (0.00001 - 0.1) \n",
        "    optimizers = Adam(learning_rate= 0.0001)\n",
        "\n",
        "    model.compile(loss = 'mean_squared_error', optimizer = optimizers, metrics = ['mean_squared_error', \n",
        "                                                                                  'mean_absolute_error'])\n",
        "    return model\n",
        "model = build_model()\n",
        "model.summary()\n",
        "history = model.fit(X_train, Y_train, epochs = 500, batch_size = 5, validation_split = 0.3)\n",
        "plt.figure(figsize=(8, 4), dpi = 100)\n",
        "plt.plot(pd.DataFrame(history.history)[['mean_squared_error', 'val_mean_squared_error']])\n"
      ],
      "metadata": {
        "id": "MuX0Ynx91Lx7"
      },
      "execution_count": null,
      "outputs": []
    },
    {
      "cell_type": "code",
      "source": [
        "predictions = model.predict(X_test)\n",
        "pd_df = pd.DataFrame(predictions)\n",
        "predictions_1 = model.predict(X_train)\n",
        "pd_df = pd.DataFrame(predictions_1)\n"
      ],
      "metadata": {
        "id": "TPdEdKCu4Gf_"
      },
      "execution_count": null,
      "outputs": []
    },
    {
      "cell_type": "code",
      "source": [
        "r2_score(Y_test, predictions)\n",
        "mean_squared_error(Y_test, predictions)\n",
        "mean_absolute_error(Y_test, predictions)"
      ],
      "metadata": {
        "id": "LrsFTFNa4NYB"
      },
      "execution_count": null,
      "outputs": []
    },
    {
      "cell_type": "code",
      "source": [
        "r2_score(Y_train, predictions_1)\n",
        "mean_squared_error(Y_train, predictions_1)\n",
        "mean_absolute_error(Y_train, predictions_1)"
      ],
      "metadata": {
        "id": "MZ3IjJ6r4V6X"
      },
      "execution_count": null,
      "outputs": []
    },
    {
      "cell_type": "code",
      "source": [
        "explainer = shap.KernelExplainer(model = model.predict, data = X.head(1677), link = \"identity\")\n",
        "X_idx = 705\n",
        "\n",
        "shap_value_single = explainer.shap_values(X = X.iloc[X_idx:X_idx+1,:], nsamples = 1670)\n",
        "X.iloc[X_idx:X_idx+1,:]\n",
        "# Create the list of all labels for the drop down list\n",
        "list_of_labels = Y.columns.to_list()\n",
        "\n",
        "# Create a list of tuples so that the index of the label is what is returned\n",
        "tuple_of_labels = list(zip(list_of_labels, range(len(list_of_labels))))\n",
        "\n",
        "# Create a widget for the labels and then display the widget\n",
        "current_label = widgets.Dropdown(options=tuple_of_labels,\n",
        "                              value=0,\n",
        "                              description='Select Label:'\n",
        "                              )\n",
        "\n",
        "# Display the dropdown list (Note: access index value with 'current_label.value')\n",
        "current_label"
      ],
      "metadata": {
        "id": "M2BUQN2J4n6E"
      },
      "execution_count": null,
      "outputs": []
    },
    {
      "cell_type": "code",
      "source": [
        "shap.initjs()\n",
        "f=X.iloc[X_idx:X_idx+1,:]\n",
        "print(f)\n",
        "print(f'Current label Shown: {list_of_labels[current_label.value]}')\n",
        "\n",
        "a=shap.force_plot(base_value = explainer.expected_value[current_label.value],\n",
        "                shap_values = shap_value_single[current_label.value],\n",
        "                features = X.iloc[X_idx:X_idx+1,:],matplotlib=True,show=False\n",
        "                )\n",
        "\n",
        "print(f'Original size: {plt.gcf().get_size_inches()}')\n",
        "w, h= plt.gcf().get_size_inches()\n",
        "plt.gcf().set_size_inches(h*8, h*1.5)\n",
        "plt.tight_layout()\n",
        "print(f'New size: {plt.gcf().get_size_inches()}')\n",
        "\n",
        "plt.savefig('fig_tes1.png', bbox_inches='tight',dpi=500)"
      ],
      "metadata": {
        "id": "lkTHEoHgAb8l"
      },
      "execution_count": null,
      "outputs": []
    },
    {
      "cell_type": "code",
      "source": [
        "shap_values = explainer.shap_values(X = X.iloc[0:400,:], nsamples = 1670)\n",
        "shap.initjs()\n",
        "\n",
        "print(f'Current Label Shown: {list_of_labels[current_label.value]}\\n')\n",
        "shap.summary_plot(shap_values = shap_values[current_label.value],\n",
        "                  features = X.iloc[0:400,:],plot_size=(15,15),show=False\n",
        "                  )\n",
        "\n",
        "plt.savefig('grafic1.png',dpi=700)"
      ],
      "metadata": {
        "id": "j4qOgcRWAgvt"
      },
      "execution_count": null,
      "outputs": []
    }
  ]
}